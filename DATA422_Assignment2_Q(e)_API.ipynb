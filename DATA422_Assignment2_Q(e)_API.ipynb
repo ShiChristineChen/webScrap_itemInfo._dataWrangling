{
 "cells": [
  {
   "cell_type": "markdown",
   "metadata": {},
   "source": [
    "======================================================================================"
   ]
  },
  {
   "cell_type": "markdown",
   "metadata": {},
   "source": [
    "## Team Members:\n",
    "### Name: Shi Chen\n",
    "\n",
    "Student ID: 54638177\n",
    "\n",
    "### Name: Sakthi Thennarasu\n",
    "\n",
    "Student ID: 64916650\n",
    "\n",
    "### Date of submission: 04/10/2020\n"
   ]
  },
  {
   "cell_type": "markdown",
   "metadata": {},
   "source": [
    "======================================================================================="
   ]
  },
  {
   "cell_type": "markdown",
   "metadata": {},
   "source": [
    "### Task (e): APIs (2 marks)\n",
    "\n",
    "Identify a web service offering data through an API. Access the API using `httr` and collect the information you care about. Convert the data into a dataframe (or more than one). Represent it graphically in a meaningful way."
   ]
  },
  {
   "cell_type": "markdown",
   "metadata": {},
   "source": [
    "#### Task: Using Pokemon API to collect 20 Pokemons information\n",
    "\n",
    "The Pokemon API contains information on the various types of Pokemon\n",
    "\n",
    "In this task, we are interested in picking up 20 Pokemon names and their weights"
   ]
  },
  {
   "cell_type": "markdown",
   "metadata": {},
   "source": [
    "#### Step 1: Import libraries\n",
    "\n",
    "1. Using library httr and json lite to read the API which is in JSON format\n",
    "2. ggplot2 is used to plot data"
   ]
  },
  {
   "cell_type": "code",
   "execution_count": 1,
   "metadata": {},
   "outputs": [
    {
     "name": "stderr",
     "output_type": "stream",
     "text": [
      "-- \u001b[1mAttaching packages\u001b[22m --------------------------------------- tidyverse 1.3.0 --\n",
      "\n",
      "\u001b[32mv\u001b[39m \u001b[34mggplot2\u001b[39m 3.3.2          \u001b[32mv\u001b[39m \u001b[34mpurrr  \u001b[39m 0.3.4     \n",
      "\u001b[32mv\u001b[39m \u001b[34mtibble \u001b[39m 3.0.3          \u001b[32mv\u001b[39m \u001b[34mdplyr  \u001b[39m 1.0.2.\u001b[31m9000\u001b[39m\n",
      "\u001b[32mv\u001b[39m \u001b[34mtidyr  \u001b[39m 1.1.2          \u001b[32mv\u001b[39m \u001b[34mstringr\u001b[39m 1.4.0     \n",
      "\u001b[32mv\u001b[39m \u001b[34mreadr  \u001b[39m 1.3.1          \u001b[32mv\u001b[39m \u001b[34mforcats\u001b[39m 0.5.0     \n",
      "\n",
      "-- \u001b[1mConflicts\u001b[22m ------------------------------------------ tidyverse_conflicts() --\n",
      "\u001b[31mx\u001b[39m \u001b[34mdplyr\u001b[39m::\u001b[32mfilter()\u001b[39m masks \u001b[34mstats\u001b[39m::filter()\n",
      "\u001b[31mx\u001b[39m \u001b[34mdplyr\u001b[39m::\u001b[32mlag()\u001b[39m    masks \u001b[34mstats\u001b[39m::lag()\n",
      "\n",
      "\n",
      "Attaching package: 'jsonlite'\n",
      "\n",
      "\n",
      "The following object is masked from 'package:purrr':\n",
      "\n",
      "    flatten\n",
      "\n",
      "\n"
     ]
    }
   ],
   "source": [
    "# your answer here\n",
    "library(tidyverse)\n",
    "library(httr)\n",
    "library(jsonlite)\n",
    "library(ggplot2)"
   ]
  },
  {
   "cell_type": "markdown",
   "metadata": {},
   "source": [
    "#### Step 2: Contect with API"
   ]
  },
  {
   "cell_type": "code",
   "execution_count": 2,
   "metadata": {},
   "outputs": [
    {
     "data": {
      "text/plain": [
       "Response [https://pokeapi.co/api/v2/pokemon]\n",
       "  Date: 2020-10-04 05:25\n",
       "  Status: 200\n",
       "  Content-Type: application/json; charset=utf-8\n",
       "  Size: 1.42 kB\n"
      ]
     },
     "metadata": {},
     "output_type": "display_data"
    }
   ],
   "source": [
    "PokeAPI = GET(\"https://pokeapi.co/api/v2/pokemon\")\n",
    "PokeAPI"
   ]
  },
  {
   "cell_type": "markdown",
   "metadata": {},
   "source": [
    "#### Step 3: Transform the string from API to data frame\n",
    "1. Using fromJSON and rawtoChar method to convert the content inside the API to character type\n",
    "2. names() is used to scroll through the data columns available"
   ]
  },
  {
   "cell_type": "code",
   "execution_count": 3,
   "metadata": {},
   "outputs": [],
   "source": [
    "Pokedata = fromJSON(rawToChar(PokeAPI$content))"
   ]
  },
  {
   "cell_type": "code",
   "execution_count": 4,
   "metadata": {},
   "outputs": [
    {
     "data": {
      "text/html": [
       "<style>\n",
       ".list-inline {list-style: none; margin:0; padding: 0}\n",
       ".list-inline>li {display: inline-block}\n",
       ".list-inline>li:not(:last-child)::after {content: \"\\00b7\"; padding: 0 .5ex}\n",
       "</style>\n",
       "<ol class=list-inline><li>'count'</li><li>'next'</li><li>'previous'</li><li>'results'</li></ol>\n"
      ],
      "text/latex": [
       "\\begin{enumerate*}\n",
       "\\item 'count'\n",
       "\\item 'next'\n",
       "\\item 'previous'\n",
       "\\item 'results'\n",
       "\\end{enumerate*}\n"
      ],
      "text/markdown": [
       "1. 'count'\n",
       "2. 'next'\n",
       "3. 'previous'\n",
       "4. 'results'\n",
       "\n",
       "\n"
      ],
      "text/plain": [
       "[1] \"count\"    \"next\"     \"previous\" \"results\" "
      ]
     },
     "metadata": {},
     "output_type": "display_data"
    }
   ],
   "source": [
    "names(Pokedata)"
   ]
  },
  {
   "cell_type": "markdown",
   "metadata": {},
   "source": [
    "3. Creating a new dataframe to store the Results from the API"
   ]
  },
  {
   "cell_type": "code",
   "execution_count": 5,
   "metadata": {},
   "outputs": [
    {
     "data": {
      "text/html": [
       "<table>\n",
       "<caption>A data.frame: 20 × 2</caption>\n",
       "<thead>\n",
       "\t<tr><th></th><th scope=col>name</th><th scope=col>url</th></tr>\n",
       "\t<tr><th></th><th scope=col>&lt;chr&gt;</th><th scope=col>&lt;chr&gt;</th></tr>\n",
       "</thead>\n",
       "<tbody>\n",
       "\t<tr><th scope=row>1</th><td>bulbasaur </td><td>https://pokeapi.co/api/v2/pokemon/1/ </td></tr>\n",
       "\t<tr><th scope=row>2</th><td>ivysaur   </td><td>https://pokeapi.co/api/v2/pokemon/2/ </td></tr>\n",
       "\t<tr><th scope=row>3</th><td>venusaur  </td><td>https://pokeapi.co/api/v2/pokemon/3/ </td></tr>\n",
       "\t<tr><th scope=row>4</th><td>charmander</td><td>https://pokeapi.co/api/v2/pokemon/4/ </td></tr>\n",
       "\t<tr><th scope=row>5</th><td>charmeleon</td><td>https://pokeapi.co/api/v2/pokemon/5/ </td></tr>\n",
       "\t<tr><th scope=row>6</th><td>charizard </td><td>https://pokeapi.co/api/v2/pokemon/6/ </td></tr>\n",
       "\t<tr><th scope=row>7</th><td>squirtle  </td><td>https://pokeapi.co/api/v2/pokemon/7/ </td></tr>\n",
       "\t<tr><th scope=row>8</th><td>wartortle </td><td>https://pokeapi.co/api/v2/pokemon/8/ </td></tr>\n",
       "\t<tr><th scope=row>9</th><td>blastoise </td><td>https://pokeapi.co/api/v2/pokemon/9/ </td></tr>\n",
       "\t<tr><th scope=row>10</th><td>caterpie  </td><td>https://pokeapi.co/api/v2/pokemon/10/</td></tr>\n",
       "\t<tr><th scope=row>11</th><td>metapod   </td><td>https://pokeapi.co/api/v2/pokemon/11/</td></tr>\n",
       "\t<tr><th scope=row>12</th><td>butterfree</td><td>https://pokeapi.co/api/v2/pokemon/12/</td></tr>\n",
       "\t<tr><th scope=row>13</th><td>weedle    </td><td>https://pokeapi.co/api/v2/pokemon/13/</td></tr>\n",
       "\t<tr><th scope=row>14</th><td>kakuna    </td><td>https://pokeapi.co/api/v2/pokemon/14/</td></tr>\n",
       "\t<tr><th scope=row>15</th><td>beedrill  </td><td>https://pokeapi.co/api/v2/pokemon/15/</td></tr>\n",
       "\t<tr><th scope=row>16</th><td>pidgey    </td><td>https://pokeapi.co/api/v2/pokemon/16/</td></tr>\n",
       "\t<tr><th scope=row>17</th><td>pidgeotto </td><td>https://pokeapi.co/api/v2/pokemon/17/</td></tr>\n",
       "\t<tr><th scope=row>18</th><td>pidgeot   </td><td>https://pokeapi.co/api/v2/pokemon/18/</td></tr>\n",
       "\t<tr><th scope=row>19</th><td>rattata   </td><td>https://pokeapi.co/api/v2/pokemon/19/</td></tr>\n",
       "\t<tr><th scope=row>20</th><td>raticate  </td><td>https://pokeapi.co/api/v2/pokemon/20/</td></tr>\n",
       "</tbody>\n",
       "</table>\n"
      ],
      "text/latex": [
       "A data.frame: 20 × 2\n",
       "\\begin{tabular}{r|ll}\n",
       "  & name & url\\\\\n",
       "  & <chr> & <chr>\\\\\n",
       "\\hline\n",
       "\t1 & bulbasaur  & https://pokeapi.co/api/v2/pokemon/1/ \\\\\n",
       "\t2 & ivysaur    & https://pokeapi.co/api/v2/pokemon/2/ \\\\\n",
       "\t3 & venusaur   & https://pokeapi.co/api/v2/pokemon/3/ \\\\\n",
       "\t4 & charmander & https://pokeapi.co/api/v2/pokemon/4/ \\\\\n",
       "\t5 & charmeleon & https://pokeapi.co/api/v2/pokemon/5/ \\\\\n",
       "\t6 & charizard  & https://pokeapi.co/api/v2/pokemon/6/ \\\\\n",
       "\t7 & squirtle   & https://pokeapi.co/api/v2/pokemon/7/ \\\\\n",
       "\t8 & wartortle  & https://pokeapi.co/api/v2/pokemon/8/ \\\\\n",
       "\t9 & blastoise  & https://pokeapi.co/api/v2/pokemon/9/ \\\\\n",
       "\t10 & caterpie   & https://pokeapi.co/api/v2/pokemon/10/\\\\\n",
       "\t11 & metapod    & https://pokeapi.co/api/v2/pokemon/11/\\\\\n",
       "\t12 & butterfree & https://pokeapi.co/api/v2/pokemon/12/\\\\\n",
       "\t13 & weedle     & https://pokeapi.co/api/v2/pokemon/13/\\\\\n",
       "\t14 & kakuna     & https://pokeapi.co/api/v2/pokemon/14/\\\\\n",
       "\t15 & beedrill   & https://pokeapi.co/api/v2/pokemon/15/\\\\\n",
       "\t16 & pidgey     & https://pokeapi.co/api/v2/pokemon/16/\\\\\n",
       "\t17 & pidgeotto  & https://pokeapi.co/api/v2/pokemon/17/\\\\\n",
       "\t18 & pidgeot    & https://pokeapi.co/api/v2/pokemon/18/\\\\\n",
       "\t19 & rattata    & https://pokeapi.co/api/v2/pokemon/19/\\\\\n",
       "\t20 & raticate   & https://pokeapi.co/api/v2/pokemon/20/\\\\\n",
       "\\end{tabular}\n"
      ],
      "text/markdown": [
       "\n",
       "A data.frame: 20 × 2\n",
       "\n",
       "| <!--/--> | name &lt;chr&gt; | url &lt;chr&gt; |\n",
       "|---|---|---|\n",
       "| 1 | bulbasaur  | https://pokeapi.co/api/v2/pokemon/1/  |\n",
       "| 2 | ivysaur    | https://pokeapi.co/api/v2/pokemon/2/  |\n",
       "| 3 | venusaur   | https://pokeapi.co/api/v2/pokemon/3/  |\n",
       "| 4 | charmander | https://pokeapi.co/api/v2/pokemon/4/  |\n",
       "| 5 | charmeleon | https://pokeapi.co/api/v2/pokemon/5/  |\n",
       "| 6 | charizard  | https://pokeapi.co/api/v2/pokemon/6/  |\n",
       "| 7 | squirtle   | https://pokeapi.co/api/v2/pokemon/7/  |\n",
       "| 8 | wartortle  | https://pokeapi.co/api/v2/pokemon/8/  |\n",
       "| 9 | blastoise  | https://pokeapi.co/api/v2/pokemon/9/  |\n",
       "| 10 | caterpie   | https://pokeapi.co/api/v2/pokemon/10/ |\n",
       "| 11 | metapod    | https://pokeapi.co/api/v2/pokemon/11/ |\n",
       "| 12 | butterfree | https://pokeapi.co/api/v2/pokemon/12/ |\n",
       "| 13 | weedle     | https://pokeapi.co/api/v2/pokemon/13/ |\n",
       "| 14 | kakuna     | https://pokeapi.co/api/v2/pokemon/14/ |\n",
       "| 15 | beedrill   | https://pokeapi.co/api/v2/pokemon/15/ |\n",
       "| 16 | pidgey     | https://pokeapi.co/api/v2/pokemon/16/ |\n",
       "| 17 | pidgeotto  | https://pokeapi.co/api/v2/pokemon/17/ |\n",
       "| 18 | pidgeot    | https://pokeapi.co/api/v2/pokemon/18/ |\n",
       "| 19 | rattata    | https://pokeapi.co/api/v2/pokemon/19/ |\n",
       "| 20 | raticate   | https://pokeapi.co/api/v2/pokemon/20/ |\n",
       "\n"
      ],
      "text/plain": [
       "   name       url                                  \n",
       "1  bulbasaur  https://pokeapi.co/api/v2/pokemon/1/ \n",
       "2  ivysaur    https://pokeapi.co/api/v2/pokemon/2/ \n",
       "3  venusaur   https://pokeapi.co/api/v2/pokemon/3/ \n",
       "4  charmander https://pokeapi.co/api/v2/pokemon/4/ \n",
       "5  charmeleon https://pokeapi.co/api/v2/pokemon/5/ \n",
       "6  charizard  https://pokeapi.co/api/v2/pokemon/6/ \n",
       "7  squirtle   https://pokeapi.co/api/v2/pokemon/7/ \n",
       "8  wartortle  https://pokeapi.co/api/v2/pokemon/8/ \n",
       "9  blastoise  https://pokeapi.co/api/v2/pokemon/9/ \n",
       "10 caterpie   https://pokeapi.co/api/v2/pokemon/10/\n",
       "11 metapod    https://pokeapi.co/api/v2/pokemon/11/\n",
       "12 butterfree https://pokeapi.co/api/v2/pokemon/12/\n",
       "13 weedle     https://pokeapi.co/api/v2/pokemon/13/\n",
       "14 kakuna     https://pokeapi.co/api/v2/pokemon/14/\n",
       "15 beedrill   https://pokeapi.co/api/v2/pokemon/15/\n",
       "16 pidgey     https://pokeapi.co/api/v2/pokemon/16/\n",
       "17 pidgeotto  https://pokeapi.co/api/v2/pokemon/17/\n",
       "18 pidgeot    https://pokeapi.co/api/v2/pokemon/18/\n",
       "19 rattata    https://pokeapi.co/api/v2/pokemon/19/\n",
       "20 raticate   https://pokeapi.co/api/v2/pokemon/20/"
      ]
     },
     "metadata": {},
     "output_type": "display_data"
    }
   ],
   "source": [
    "PokemonDF <- Pokedata$results\n",
    "PokemonDF"
   ]
  },
  {
   "cell_type": "markdown",
   "metadata": {},
   "source": [
    "#### Step 4: Try one page first \n",
    "Looking at one url to understand the data and pick up sample weight for one Pokemon"
   ]
  },
  {
   "cell_type": "code",
   "execution_count": 6,
   "metadata": {},
   "outputs": [],
   "source": [
    "PokedetailAPI = GET(\"https://pokeapi.co/api/v2/pokemon/1\")\n",
    "Pokedetaildata = fromJSON(rawToChar(PokedetailAPI$content))\n"
   ]
  },
  {
   "cell_type": "code",
   "execution_count": 7,
   "metadata": {},
   "outputs": [
    {
     "data": {
      "text/html": [
       "<style>\n",
       ".list-inline {list-style: none; margin:0; padding: 0}\n",
       ".list-inline>li {display: inline-block}\n",
       ".list-inline>li:not(:last-child)::after {content: \"\\00b7\"; padding: 0 .5ex}\n",
       "</style>\n",
       "<ol class=list-inline><li>'abilities'</li><li>'base_experience'</li><li>'forms'</li><li>'game_indices'</li><li>'height'</li><li>'held_items'</li><li>'id'</li><li>'is_default'</li><li>'location_area_encounters'</li><li>'moves'</li><li>'name'</li><li>'order'</li><li>'species'</li><li>'sprites'</li><li>'stats'</li><li>'types'</li><li>'weight'</li></ol>\n"
      ],
      "text/latex": [
       "\\begin{enumerate*}\n",
       "\\item 'abilities'\n",
       "\\item 'base\\_experience'\n",
       "\\item 'forms'\n",
       "\\item 'game\\_indices'\n",
       "\\item 'height'\n",
       "\\item 'held\\_items'\n",
       "\\item 'id'\n",
       "\\item 'is\\_default'\n",
       "\\item 'location\\_area\\_encounters'\n",
       "\\item 'moves'\n",
       "\\item 'name'\n",
       "\\item 'order'\n",
       "\\item 'species'\n",
       "\\item 'sprites'\n",
       "\\item 'stats'\n",
       "\\item 'types'\n",
       "\\item 'weight'\n",
       "\\end{enumerate*}\n"
      ],
      "text/markdown": [
       "1. 'abilities'\n",
       "2. 'base_experience'\n",
       "3. 'forms'\n",
       "4. 'game_indices'\n",
       "5. 'height'\n",
       "6. 'held_items'\n",
       "7. 'id'\n",
       "8. 'is_default'\n",
       "9. 'location_area_encounters'\n",
       "10. 'moves'\n",
       "11. 'name'\n",
       "12. 'order'\n",
       "13. 'species'\n",
       "14. 'sprites'\n",
       "15. 'stats'\n",
       "16. 'types'\n",
       "17. 'weight'\n",
       "\n",
       "\n"
      ],
      "text/plain": [
       " [1] \"abilities\"                \"base_experience\"         \n",
       " [3] \"forms\"                    \"game_indices\"            \n",
       " [5] \"height\"                   \"held_items\"              \n",
       " [7] \"id\"                       \"is_default\"              \n",
       " [9] \"location_area_encounters\" \"moves\"                   \n",
       "[11] \"name\"                     \"order\"                   \n",
       "[13] \"species\"                  \"sprites\"                 \n",
       "[15] \"stats\"                    \"types\"                   \n",
       "[17] \"weight\"                  "
      ]
     },
     "metadata": {},
     "output_type": "display_data"
    }
   ],
   "source": [
    "names(Pokedetaildata)"
   ]
  },
  {
   "cell_type": "code",
   "execution_count": 8,
   "metadata": {},
   "outputs": [
    {
     "data": {
      "text/html": [
       "69"
      ],
      "text/latex": [
       "69"
      ],
      "text/markdown": [
       "69"
      ],
      "text/plain": [
       "[1] 69"
      ]
     },
     "metadata": {},
     "output_type": "display_data"
    }
   ],
   "source": [
    "Pokedetaildata$weight"
   ]
  },
  {
   "cell_type": "markdown",
   "metadata": {},
   "source": [
    "#### Step 5: Create a function \n",
    "\n",
    "The function will accepts the link as input and fetches the weight from the URL"
   ]
  },
  {
   "cell_type": "code",
   "execution_count": 9,
   "metadata": {},
   "outputs": [],
   "source": [
    "get_pokemonweight <- function(link){\n",
    "  \n",
    "res = GET(link)\n",
    "data = fromJSON(rawToChar(res$content))\n",
    "pokeweight = data$weight\n",
    "  return(pokeweight)\n",
    "    }"
   ]
  },
  {
   "cell_type": "markdown",
   "metadata": {},
   "source": [
    "#### Step 6: Using the function and get the output"
   ]
  },
  {
   "cell_type": "markdown",
   "metadata": {},
   "source": [
    "1. Access the function by passing values from the existing pokemon dataframe. Using map function to map each result to the corresponding observations"
   ]
  },
  {
   "cell_type": "code",
   "execution_count": 10,
   "metadata": {},
   "outputs": [],
   "source": [
    "PokemonDF <- PokemonDF %>% mutate(weight= map_int(PokemonDF$url,get_pokemonweight))"
   ]
  },
  {
   "cell_type": "markdown",
   "metadata": {},
   "source": [
    "2. Check the output"
   ]
  },
  {
   "cell_type": "code",
   "execution_count": 11,
   "metadata": {},
   "outputs": [
    {
     "data": {
      "text/html": [
       "<table>\n",
       "<caption>A data.frame: 20 × 3</caption>\n",
       "<thead>\n",
       "\t<tr><th scope=col>name</th><th scope=col>url</th><th scope=col>weight</th></tr>\n",
       "\t<tr><th scope=col>&lt;chr&gt;</th><th scope=col>&lt;chr&gt;</th><th scope=col>&lt;int&gt;</th></tr>\n",
       "</thead>\n",
       "<tbody>\n",
       "\t<tr><td>bulbasaur </td><td>https://pokeapi.co/api/v2/pokemon/1/ </td><td>  69</td></tr>\n",
       "\t<tr><td>ivysaur   </td><td>https://pokeapi.co/api/v2/pokemon/2/ </td><td> 130</td></tr>\n",
       "\t<tr><td>venusaur  </td><td>https://pokeapi.co/api/v2/pokemon/3/ </td><td>1000</td></tr>\n",
       "\t<tr><td>charmander</td><td>https://pokeapi.co/api/v2/pokemon/4/ </td><td>  85</td></tr>\n",
       "\t<tr><td>charmeleon</td><td>https://pokeapi.co/api/v2/pokemon/5/ </td><td> 190</td></tr>\n",
       "\t<tr><td>charizard </td><td>https://pokeapi.co/api/v2/pokemon/6/ </td><td> 905</td></tr>\n",
       "\t<tr><td>squirtle  </td><td>https://pokeapi.co/api/v2/pokemon/7/ </td><td>  90</td></tr>\n",
       "\t<tr><td>wartortle </td><td>https://pokeapi.co/api/v2/pokemon/8/ </td><td> 225</td></tr>\n",
       "\t<tr><td>blastoise </td><td>https://pokeapi.co/api/v2/pokemon/9/ </td><td> 855</td></tr>\n",
       "\t<tr><td>caterpie  </td><td>https://pokeapi.co/api/v2/pokemon/10/</td><td>  29</td></tr>\n",
       "\t<tr><td>metapod   </td><td>https://pokeapi.co/api/v2/pokemon/11/</td><td>  99</td></tr>\n",
       "\t<tr><td>butterfree</td><td>https://pokeapi.co/api/v2/pokemon/12/</td><td> 320</td></tr>\n",
       "\t<tr><td>weedle    </td><td>https://pokeapi.co/api/v2/pokemon/13/</td><td>  32</td></tr>\n",
       "\t<tr><td>kakuna    </td><td>https://pokeapi.co/api/v2/pokemon/14/</td><td> 100</td></tr>\n",
       "\t<tr><td>beedrill  </td><td>https://pokeapi.co/api/v2/pokemon/15/</td><td> 295</td></tr>\n",
       "\t<tr><td>pidgey    </td><td>https://pokeapi.co/api/v2/pokemon/16/</td><td>  18</td></tr>\n",
       "\t<tr><td>pidgeotto </td><td>https://pokeapi.co/api/v2/pokemon/17/</td><td> 300</td></tr>\n",
       "\t<tr><td>pidgeot   </td><td>https://pokeapi.co/api/v2/pokemon/18/</td><td> 395</td></tr>\n",
       "\t<tr><td>rattata   </td><td>https://pokeapi.co/api/v2/pokemon/19/</td><td>  35</td></tr>\n",
       "\t<tr><td>raticate  </td><td>https://pokeapi.co/api/v2/pokemon/20/</td><td> 185</td></tr>\n",
       "</tbody>\n",
       "</table>\n"
      ],
      "text/latex": [
       "A data.frame: 20 × 3\n",
       "\\begin{tabular}{lll}\n",
       " name & url & weight\\\\\n",
       " <chr> & <chr> & <int>\\\\\n",
       "\\hline\n",
       "\t bulbasaur  & https://pokeapi.co/api/v2/pokemon/1/  &   69\\\\\n",
       "\t ivysaur    & https://pokeapi.co/api/v2/pokemon/2/  &  130\\\\\n",
       "\t venusaur   & https://pokeapi.co/api/v2/pokemon/3/  & 1000\\\\\n",
       "\t charmander & https://pokeapi.co/api/v2/pokemon/4/  &   85\\\\\n",
       "\t charmeleon & https://pokeapi.co/api/v2/pokemon/5/  &  190\\\\\n",
       "\t charizard  & https://pokeapi.co/api/v2/pokemon/6/  &  905\\\\\n",
       "\t squirtle   & https://pokeapi.co/api/v2/pokemon/7/  &   90\\\\\n",
       "\t wartortle  & https://pokeapi.co/api/v2/pokemon/8/  &  225\\\\\n",
       "\t blastoise  & https://pokeapi.co/api/v2/pokemon/9/  &  855\\\\\n",
       "\t caterpie   & https://pokeapi.co/api/v2/pokemon/10/ &   29\\\\\n",
       "\t metapod    & https://pokeapi.co/api/v2/pokemon/11/ &   99\\\\\n",
       "\t butterfree & https://pokeapi.co/api/v2/pokemon/12/ &  320\\\\\n",
       "\t weedle     & https://pokeapi.co/api/v2/pokemon/13/ &   32\\\\\n",
       "\t kakuna     & https://pokeapi.co/api/v2/pokemon/14/ &  100\\\\\n",
       "\t beedrill   & https://pokeapi.co/api/v2/pokemon/15/ &  295\\\\\n",
       "\t pidgey     & https://pokeapi.co/api/v2/pokemon/16/ &   18\\\\\n",
       "\t pidgeotto  & https://pokeapi.co/api/v2/pokemon/17/ &  300\\\\\n",
       "\t pidgeot    & https://pokeapi.co/api/v2/pokemon/18/ &  395\\\\\n",
       "\t rattata    & https://pokeapi.co/api/v2/pokemon/19/ &   35\\\\\n",
       "\t raticate   & https://pokeapi.co/api/v2/pokemon/20/ &  185\\\\\n",
       "\\end{tabular}\n"
      ],
      "text/markdown": [
       "\n",
       "A data.frame: 20 × 3\n",
       "\n",
       "| name &lt;chr&gt; | url &lt;chr&gt; | weight &lt;int&gt; |\n",
       "|---|---|---|\n",
       "| bulbasaur  | https://pokeapi.co/api/v2/pokemon/1/  |   69 |\n",
       "| ivysaur    | https://pokeapi.co/api/v2/pokemon/2/  |  130 |\n",
       "| venusaur   | https://pokeapi.co/api/v2/pokemon/3/  | 1000 |\n",
       "| charmander | https://pokeapi.co/api/v2/pokemon/4/  |   85 |\n",
       "| charmeleon | https://pokeapi.co/api/v2/pokemon/5/  |  190 |\n",
       "| charizard  | https://pokeapi.co/api/v2/pokemon/6/  |  905 |\n",
       "| squirtle   | https://pokeapi.co/api/v2/pokemon/7/  |   90 |\n",
       "| wartortle  | https://pokeapi.co/api/v2/pokemon/8/  |  225 |\n",
       "| blastoise  | https://pokeapi.co/api/v2/pokemon/9/  |  855 |\n",
       "| caterpie   | https://pokeapi.co/api/v2/pokemon/10/ |   29 |\n",
       "| metapod    | https://pokeapi.co/api/v2/pokemon/11/ |   99 |\n",
       "| butterfree | https://pokeapi.co/api/v2/pokemon/12/ |  320 |\n",
       "| weedle     | https://pokeapi.co/api/v2/pokemon/13/ |   32 |\n",
       "| kakuna     | https://pokeapi.co/api/v2/pokemon/14/ |  100 |\n",
       "| beedrill   | https://pokeapi.co/api/v2/pokemon/15/ |  295 |\n",
       "| pidgey     | https://pokeapi.co/api/v2/pokemon/16/ |   18 |\n",
       "| pidgeotto  | https://pokeapi.co/api/v2/pokemon/17/ |  300 |\n",
       "| pidgeot    | https://pokeapi.co/api/v2/pokemon/18/ |  395 |\n",
       "| rattata    | https://pokeapi.co/api/v2/pokemon/19/ |   35 |\n",
       "| raticate   | https://pokeapi.co/api/v2/pokemon/20/ |  185 |\n",
       "\n"
      ],
      "text/plain": [
       "   name       url                                   weight\n",
       "1  bulbasaur  https://pokeapi.co/api/v2/pokemon/1/    69  \n",
       "2  ivysaur    https://pokeapi.co/api/v2/pokemon/2/   130  \n",
       "3  venusaur   https://pokeapi.co/api/v2/pokemon/3/  1000  \n",
       "4  charmander https://pokeapi.co/api/v2/pokemon/4/    85  \n",
       "5  charmeleon https://pokeapi.co/api/v2/pokemon/5/   190  \n",
       "6  charizard  https://pokeapi.co/api/v2/pokemon/6/   905  \n",
       "7  squirtle   https://pokeapi.co/api/v2/pokemon/7/    90  \n",
       "8  wartortle  https://pokeapi.co/api/v2/pokemon/8/   225  \n",
       "9  blastoise  https://pokeapi.co/api/v2/pokemon/9/   855  \n",
       "10 caterpie   https://pokeapi.co/api/v2/pokemon/10/   29  \n",
       "11 metapod    https://pokeapi.co/api/v2/pokemon/11/   99  \n",
       "12 butterfree https://pokeapi.co/api/v2/pokemon/12/  320  \n",
       "13 weedle     https://pokeapi.co/api/v2/pokemon/13/   32  \n",
       "14 kakuna     https://pokeapi.co/api/v2/pokemon/14/  100  \n",
       "15 beedrill   https://pokeapi.co/api/v2/pokemon/15/  295  \n",
       "16 pidgey     https://pokeapi.co/api/v2/pokemon/16/   18  \n",
       "17 pidgeotto  https://pokeapi.co/api/v2/pokemon/17/  300  \n",
       "18 pidgeot    https://pokeapi.co/api/v2/pokemon/18/  395  \n",
       "19 rattata    https://pokeapi.co/api/v2/pokemon/19/   35  \n",
       "20 raticate   https://pokeapi.co/api/v2/pokemon/20/  185  "
      ]
     },
     "metadata": {},
     "output_type": "display_data"
    }
   ],
   "source": [
    "PokemonDF"
   ]
  },
  {
   "cell_type": "markdown",
   "metadata": {},
   "source": [
    "#### Step 7: Using ggplot to visualize"
   ]
  },
  {
   "cell_type": "code",
   "execution_count": 12,
   "metadata": {},
   "outputs": [
    {
     "data": {
      "image/png": "[encoded data removed]",
      "text/plain": [
       "plot without title"
      ]
     },
     "metadata": {
      "image/png": {
       "height": 420,
       "width": 420
      }
     },
     "output_type": "display_data"
    }
   ],
   "source": [
    "p<-ggplot(data=PokemonDF, aes(x=name, y=weight)) +\n",
    "  geom_bar(stat=\"identity\" , fill=\"steelblue\") + theme(axis.text.x=element_text(angle=90,hjust=1,vjust=0.5))\n",
    "p\n"
   ]
  }
 ],
 "metadata": {
  "kernelspec": {
   "display_name": "R",
   "language": "R",
   "name": "ir"
  },
  "language_info": {
   "codemirror_mode": "r",
   "file_extension": ".r",
   "mimetype": "text/x-r-source",
   "name": "R",
   "pygments_lexer": "r",
   "version": "4.0.2"
  }
 },
 "nbformat": 4,
 "nbformat_minor": 4
}
