{
 "cells": [
  {
   "cell_type": "markdown",
   "metadata": {},
   "source": [
    "======================================================================================"
   ]
  },
  {
   "cell_type": "markdown",
   "metadata": {},
   "source": [
    "## Team Members:\n",
    "### Name: Shi Chen\n",
    "\n",
    "Student ID: 54638177\n",
    "\n",
    "### Name: Sakthi Thennarasu\n",
    "\n",
    "Student ID: 64916650\n",
    "\n",
    "### Date of submission: 04/10/2020\n"
   ]
  },
  {
   "cell_type": "markdown",
   "metadata": {},
   "source": [
    "======================================================================================"
   ]
  },
  {
   "cell_type": "markdown",
   "metadata": {},
   "source": [
    "#### Task\n",
    "Using HTTP,Gumbo and Cascadia to perform the web scraping methods.\n",
    "Using Dataframes to create and manipulate the dataframe.\n",
    "\n",
    "In this task, our intention is to scrape data from the University bookshop.\n",
    "The fields we are interested in are the book title, price, availability at the bookshop and its description.\n",
    "\n",
    "\n",
    "#### Step 1: Import library"
   ]
  },
  {
   "cell_type": "code",
   "execution_count": 1,
   "metadata": {
    "scrolled": true
   },
   "outputs": [],
   "source": [
    "using Pkg, HTTP, Gumbo, Cascadia,DataFrames"
   ]
  },
  {
   "cell_type": "markdown",
   "metadata": {},
   "source": [
    "#### Step 2: Learn the scraping process\n",
    "1. Passing the University book shop URL filtered with activity books to the HTTP method\n",
    "2. Parse the output from the GET method a s String in HTML format"
   ]
  },
  {
   "cell_type": "code",
   "execution_count": 2,
   "metadata": {
    "scrolled": true
   },
   "outputs": [
    {
     "data": {
      "text/plain": [
       "HTTP.Messages.Response:\n",
       "\"\"\"\n",
       "HTTP/1.1 200 OK\r\n",
       "Server: openresty\r\n",
       "Date: Sun, 04 Oct 2020 02:30:38 GMT\r\n",
       "Content-Type: text/html; charset=utf-8\r\n",
       "Content-Length: 28580\r\n",
       "Connection: keep-alive\r\n",
       "Cache-Control: private\r\n",
       "Set-Cookie: visitorDeviceClass=desktop; path=/\r\n",
       "Set-Cookie: ASP.NET_SessionId=rvpqsd4mmooruxk5cnolmvp2; path=/; HttpOnly; SameSite=Lax\r\n",
       "X-FullPageCaching: Served\r\n",
       "Set-Cookie: visitorDeviceClass=desktop; path=/\r\n",
       "Set-Cookie: ASP.NET_SessionId=rvpqsd4mmooruxk5cnolmvp2; path=/; HttpOnly; SameSite=Lax\r\n",
       "Set-Cookie: ANONID_FS1188206=04.10.2020 02:30:38.862; domain=ubscan.worldsecuresystems.com; expires=Mon, 04-Oct-2021 02:30:38 GMT; path=/\r\n",
       "Set-Cookie: ANONID1188206=3ef7fbed-fabb-4783-a619-d35e173be61e; domain=ubscan.worldsecuresystems.com; expires=Mon, 04-Oct-2021 02:30:38 GMT; path=/\r\n",
       "Set-Cookie: VISID1188206=583a4e69-199b-4699-b79a-c21864bbbd35#ubscan.worldsecuresystems.com#04.10.2020 02:30:38.862; domain=ubscan.worldsecuresystems.com; expires=Sun, 04-Oct-2020 03:00:38 GMT; path=/\r\n",
       "X-Frame-Options: allowall\r\n",
       "X-XSS-Protection: 1; mode=block\r\n",
       "Strict-Transport-Security: max-age=15724800; includeSubDomains\r\n",
       "\r\n",
       "<!DOCTYPE html>\r\n",
       "<html xmlns=\"http://www.w3.org/1999/xhtml\">\r\n",
       "\n",
       "    <!-- BC_OBNW -->\r\n",
       "<head>\r\n",
       "<meta http-equiv=\"Content-Type\" content=\"text/html; charset=utf-8\" />\r\n",
       "<title>Activity Books</title>\r\n",
       "<link type=\"text/css\" href=\"/StyleSheets/ModuleStyleSheets.css\" rel=\"StyleSheet\" />\r\n",
       "<script type=\"text/javascript\">var jslang='EN';</script>\r\n",
       "<link rel=\"stylesheet\" href=\"/CatalystStyles/Box.css?vs=b8.33cb2ecf-phase1\" type=\"text/css\" media=\"screen\" />\r\n",
       "<script type=\"text/javascript\" src=\"/CatalystScripts/Java_OnlineShopping.js?vs=b8.33cb2ecf-phase1\"></script>\r\n",
       "<script type=\"text/javascript\" src=\"/CatalystScripts/Java_Cookies.js?vs=b8.33cb2ecf-phase1\"></script>\r\n",
       "<script type=\"text/javascript\" src=\"/CatalystScripts/Java_Box.js?vs=b8.33cb2ecf-phase1\"></script>\r\n",
       "<script type=\"text/javascript\" src=\"/ajaxpro/prototype-core.ashx\"></script>\r\n",
       "<script type=\"text/javascript\" src=\"/ajaxpro/CMS.CatalogueRetrieve,Catalyst.Web.CMS.ashx\"></script>\r\n",
       "<link href=\"/stylesheets/all.css\" rel=\"stylesheet\" type=\"text\n",
       "⋮\n",
       "28580-byte body\n",
       "\"\"\""
      ]
     },
     "execution_count": 2,
     "metadata": {},
     "output_type": "execute_result"
    }
   ],
   "source": [
    "Page_UCbookshop = HTTP.get(\"https://ubscan.worldsecuresystems.com/childrens-non-fiction/activity-books\")"
   ]
  },
  {
   "cell_type": "markdown",
   "metadata": {},
   "source": [
    "#### Step 3: Lock on the information"
   ]
  },
  {
   "cell_type": "code",
   "execution_count": 3,
   "metadata": {
    "scrolled": true
   },
   "outputs": [
    {
     "data": {
      "text/plain": [
       "HTML Document:\n",
       "<!DOCTYPE html>\n",
       "HTMLElement{:HTML}:<HTML xmlns=\"http://www.w3.org/1999/xhtml\">\n",
       "  <head>\n",
       "    <meta content=\"text/html; charset=utf-8\" http-equiv=\"Content-Type\"/>\n",
       "    <title>\n",
       "      Activity Books\n",
       "    </title>\n",
       "    <link href=\"/StyleSheets/ModuleStyleSheets.css\" rel=\"StyleSheet\" type=\"text/css\"/>\n",
       "    <script type=\"text/javascript\">var jslang='EN';    </script>\n",
       "    <link href=\"/CatalystStyles/Box.css?vs=b8.33cb2ecf-phase1\" media=\"screen\" rel=\"stylesheet\" type=\"text/css\"/>\n",
       "    <script src=\"/CatalystScripts/Java_OnlineShopping.js?vs=b8.33cb2ecf-phase1\" type=\"text/javascript\"></script>\n",
       "    <script src=\"/CatalystScripts/Java_Cookies.js?vs=b8.33cb2ecf-phase1\" type=\"text/javascript\"></script>\n",
       "    <script src=\"/CatalystScripts/Java_Box.js?vs=b8.33cb2ecf-phase1\" type=\"text/javascript\"></script>\n",
       "    <script src=\"/ajaxpro/prototype-core.ashx\" type=\"text/javascript\"></script>\n",
       "    <script src=\"/ajaxpro/CMS.CatalogueRetrieve,Catalyst.Web.CMS.ashx\" type=\"text/javascript\"></script>\n",
       "    <link href=\"/stylesheets/all.css\" rel=\"stylesheet\" type=\"text/css\"/>\n",
       "    <link href=\"//netdna.bootstrapcdn.com/bootstrap/3.0.0-rc1/css/bootstrap.min.css\" rel=\"stylesheet\"/>\n",
       "    <link href=\"https://fonts.googleapis.com/css?family=Open+Sans:400,300,700\" rel=\"stylesheet\" type=\"text/css\"/>\n",
       "    <link href=\"/stylesheets/ubs.css\" rel=\"stylesheet\" type=\"text/css\"/>\n",
       "    <script src=\"/js/jquery-1.5.min.js\" type=\"text/javascript\"></script>\n",
       "    <script src=\"//netdna.bootstrapcdn.com/bootstrap/3.0.0-rc1/js/bootstrap.min.js\"></script>\n",
       "...\n"
      ]
     },
     "execution_count": 3,
     "metadata": {},
     "output_type": "execute_result"
    }
   ],
   "source": [
    "parsed_page = Page_UCbookshop.body |>  String |>  parsehtml"
   ]
  },
  {
   "cell_type": "markdown",
   "metadata": {},
   "source": [
    "#### Step 4: Scrap the bookname and price\n",
    "\n",
    "The HTML classess for the product name and price are identified from the HTML and used as selectors below"
   ]
  },
  {
   "cell_type": "code",
   "execution_count": 4,
   "metadata": {},
   "outputs": [
    {
     "data": {
      "text/plain": [
       "Selector(Cascadia.var\"#7#8\"{Cascadia.var\"#13#14\"{String}}(Cascadia.var\"#13#14\"{String}(\"newprice\"), Core.Box(\"class\")))"
      ]
     },
     "execution_count": 4,
     "metadata": {},
     "output_type": "execute_result"
    }
   ],
   "source": [
    "# we create a selector to get the book title, price and desc\n",
    "sel_bookname = Selector(\".product-name a\")\n",
    "sel_price = Selector(\".newprice\")"
   ]
  },
  {
   "cell_type": "markdown",
   "metadata": {},
   "source": [
    "#### Step 5: Locked on bookname\n",
    "Based on the selector, using eachmatch, the booknames are picked up"
   ]
  },
  {
   "cell_type": "code",
   "execution_count": 5,
   "metadata": {
    "scrolled": true
   },
   "outputs": [
    {
     "data": {
      "text/plain": [
       "12-element Array{HTMLNode,1}:\n",
       " HTMLElement{:a}:<a href=\"/childrens-non-fiction/activity-books/100-easy-steam-activities\">\n",
       "  100 Easy STEAM Activities\n",
       "</a>\n",
       "\n",
       "\n",
       " HTMLElement{:a}:<a href=\"/childrens-non-fiction/activity-books/100-superplanes-to-fold-and-fly\">\n",
       "  100 Superplanes to Fold and Fly\n",
       "</a>\n",
       "\n",
       "\n",
       " HTMLElement{:a}:<a href=\"/childrens-non-fiction/activity-books/101-things-for-kids-to-do-screen-free\">\n",
       "  101 Things for Kids to do Screen-free\n",
       "</a>\n",
       "\n",
       "\n",
       " HTMLElement{:a}:<a href=\"/childrens-non-fiction/activity-books/Action\">\n",
       "  Action\n",
       "</a>\n",
       "\n",
       "\n",
       " HTMLElement{:a}:<a href=\"/childrens-non-fiction/activity-books/amazing-aotearoa-activity-book\">\n",
       "  Amazing Aotearoa Activity Book\n",
       "</a>\n",
       "\n",
       "\n",
       " HTMLElement{:a}:<a href=\"/childrens-non-fiction/activity-books/amazing-area-mazes\">\n",
       "  Amazing Area Mazes\n",
       "</a>\n",
       "\n",
       "\n",
       " HTMLElement{:a}:<a href=\"/childrens-non-fiction/activity-books/amazing-lego-creations-from-space-with-bricks-you-already-have\">\n",
       "  Amazing Lego Creations from Space with Bricks You Already Have\n",
       "</a>\n",
       "\n",
       "\n",
       " HTMLElement{:a}:<a href=\"/childrens-non-fiction/activity-books/animal-magnets\">\n",
       "  Animal Magnets\n",
       "</a>\n",
       "\n",
       "\n",
       " HTMLElement{:a}:<a href=\"/childrens-non-fiction/activity-books/animal-scramble\">\n",
       "  Animal Scramble\n",
       "</a>\n",
       "\n",
       "\n",
       " HTMLElement{:a}:<a href=\"/childrens-non-fiction/activity-books/animals-5\">\n",
       "  Animals\n",
       "</a>\n",
       "\n",
       "\n",
       " HTMLElement{:a}:<a href=\"/childrens-non-fiction/activity-books/art-for-little-kids\">\n",
       "  Art for Little Kids\n",
       "</a>\n",
       "\n",
       "\n",
       " HTMLElement{:a}:<a href=\"/childrens-non-fiction/activity-books/art-out-of-the-box\">\n",
       "  Art Out of the Box\n",
       "</a>\n",
       "\n"
      ]
     },
     "execution_count": 5,
     "metadata": {},
     "output_type": "execute_result"
    }
   ],
   "source": [
    "# and we extract each matching node in the XML document\n",
    "bookname_frompage = eachmatch(sel_bookname,parsed_page.root)\n"
   ]
  },
  {
   "cell_type": "markdown",
   "metadata": {},
   "source": [
    "#### Step 6: Locked on bookprice\n",
    "\n",
    "Based on the selector, using eachmatch, the bookprices are picked up. This is similar to booknames as above."
   ]
  },
  {
   "cell_type": "code",
   "execution_count": 6,
   "metadata": {},
   "outputs": [
    {
     "data": {
      "text/plain": [
       "12-element Array{HTMLNode,1}:\n",
       " HTMLElement{:span}:<span class=\"newprice\">\n",
       "  Price: $34.99\n",
       "</span>\n",
       "\n",
       "\n",
       " HTMLElement{:span}:<span class=\"newprice\">\n",
       "  Price: $16.99\n",
       "</span>\n",
       "\n",
       "\n",
       " HTMLElement{:span}:<span class=\"newprice\">\n",
       "  Price: $34.99\n",
       "</span>\n",
       "\n",
       "\n",
       " HTMLElement{:span}:<span class=\"newprice\">\n",
       "  Price: $14.99\n",
       "</span>\n",
       "\n",
       "\n",
       " HTMLElement{:span}:<span class=\"newprice\">\n",
       "  Price: $25.00\n",
       "</span>\n",
       "\n",
       "\n",
       " HTMLElement{:span}:<span class=\"newprice\">\n",
       "  Price: $21.99\n",
       "</span>\n",
       "\n",
       "\n",
       " HTMLElement{:span}:<span class=\"newprice\">\n",
       "  Price: $34.99\n",
       "</span>\n",
       "\n",
       "\n",
       " HTMLElement{:span}:<span class=\"newprice\">\n",
       "  Price: $22.99\n",
       "</span>\n",
       "\n",
       "\n",
       " HTMLElement{:span}:<span class=\"newprice\">\n",
       "  Price: $19.99\n",
       "</span>\n",
       "\n",
       "\n",
       " HTMLElement{:span}:<span class=\"newprice\">\n",
       "  Price: $10.99\n",
       "</span>\n",
       "\n",
       "\n",
       " HTMLElement{:span}:<span class=\"newprice\">\n",
       "  Price: $19.99\n",
       "</span>\n",
       "\n",
       "\n",
       " HTMLElement{:span}:<span class=\"newprice\">\n",
       "  Price: $29.99\n",
       "</span>\n",
       "\n"
      ]
     },
     "execution_count": 6,
     "metadata": {},
     "output_type": "execute_result"
    }
   ],
   "source": [
    "bookprice_frompage = eachmatch(sel_price,parsed_page.root)"
   ]
  },
  {
   "cell_type": "markdown",
   "metadata": {},
   "source": [
    "#### Step 7: Wrap get_book_name as a function\n",
    "A function is created to obtain the HTML text from the HTML element book name"
   ]
  },
  {
   "cell_type": "code",
   "execution_count": 7,
   "metadata": {},
   "outputs": [
    {
     "data": {
      "text/plain": [
       "get_book_name (generic function with 1 method)"
      ]
     },
     "execution_count": 7,
     "metadata": {},
     "output_type": "execute_result"
    }
   ],
   "source": [
    "function get_book_name(query_result, i)\n",
    "    text = strip(Gumbo.text(query_result[i]))\n",
    "    if length(text) > 0\n",
    "      return text\n",
    "    end\n",
    "    return nothing\n",
    "  end"
   ]
  },
  {
   "cell_type": "markdown",
   "metadata": {},
   "source": [
    "#### Step 8: Formal book_name scraping process\n",
    "\n",
    "1. Create a empty string array to store bookname and int array for price"
   ]
  },
  {
   "cell_type": "code",
   "execution_count": 8,
   "metadata": {},
   "outputs": [
    {
     "data": {
      "text/plain": [
       "0-element Array{String,1}"
      ]
     },
     "execution_count": 8,
     "metadata": {},
     "output_type": "execute_result"
    }
   ],
   "source": [
    "bookname = String[]\n",
    "bookprice = String[]"
   ]
  },
  {
   "cell_type": "markdown",
   "metadata": {},
   "source": [
    "2. Create a for loop to pass the HTML elements into the function and push the outputs to the string array.\n",
    "\n",
    "3. Do the same for book prices below"
   ]
  },
  {
   "cell_type": "code",
   "execution_count": 9,
   "metadata": {},
   "outputs": [],
   "source": [
    "# Using for loop to obtain book names\n",
    "for i = 1:length(bookname_frompage[:])\n",
    "    try\n",
    "      push!(bookname, get_book_name(bookname_frompage, i))\n",
    "    catch\n",
    "      nothing\n",
    "    end\n",
    "end"
   ]
  },
  {
   "cell_type": "code",
   "execution_count": 10,
   "metadata": {},
   "outputs": [
    {
     "data": {
      "text/plain": [
       "12-element Array{String,1}:\n",
       " \"100 Easy STEAM Activities\"\n",
       " \"100 Superplanes to Fold and Fly\"\n",
       " \"101 Things for Kids to do Screen-free\"\n",
       " \"Action\"\n",
       " \"Amazing Aotearoa Activity Book\"\n",
       " \"Amazing Area Mazes\"\n",
       " \"Amazing Lego Creations from Space with Bricks You Already Have\"\n",
       " \"Animal Magnets\"\n",
       " \"Animal Scramble\"\n",
       " \"Animals\"\n",
       " \"Art for Little Kids\"\n",
       " \"Art Out of the Box\""
      ]
     },
     "execution_count": 10,
     "metadata": {},
     "output_type": "execute_result"
    }
   ],
   "source": [
    "# Print out the result to have a check\n",
    "bookname"
   ]
  },
  {
   "cell_type": "markdown",
   "metadata": {},
   "source": [
    "#### Step 8: Wrap get_book_price as a function\n",
    "\n",
    "1. A function is created to obtain the HTML text from the HTML element for the book price.\n",
    "\n",
    "2. This is same as above except that a substring is used to remove the unwanted characters obtained."
   ]
  },
  {
   "cell_type": "code",
   "execution_count": 11,
   "metadata": {},
   "outputs": [
    {
     "data": {
      "text/plain": [
       "get_price_name (generic function with 1 method)"
      ]
     },
     "execution_count": 11,
     "metadata": {},
     "output_type": "execute_result"
    }
   ],
   "source": [
    "#Create  a function to get book price\n",
    "function get_price_name(query_result, i)\n",
    "   \n",
    "    text = strip(Gumbo.text(query_result[i]))\n",
    "    text2 = SubString(text,9,10)\n",
    "    if length(text2) > 0\n",
    "      return text2\n",
    "    end\n",
    "    return nothing\n",
    "  end"
   ]
  },
  {
   "cell_type": "markdown",
   "metadata": {},
   "source": [
    "3. Create a for loop to pass the HTML elements into the function and push the outputs to the string array.\n",
    "\n",
    "4. Do the same for book prices below."
   ]
  },
  {
   "cell_type": "code",
   "execution_count": 12,
   "metadata": {},
   "outputs": [],
   "source": [
    "for i = 1:length(bookprice_frompage[:])\n",
    "    try\n",
    "          push!(bookprice, get_price_name(bookprice_frompage, i))\n",
    "    catch\n",
    "      nothing\n",
    "    end\n",
    "end"
   ]
  },
  {
   "cell_type": "code",
   "execution_count": 13,
   "metadata": {},
   "outputs": [
    {
     "data": {
      "text/plain": [
       "12-element Array{String,1}:\n",
       " \"34\"\n",
       " \"16\"\n",
       " \"34\"\n",
       " \"14\"\n",
       " \"25\"\n",
       " \"21\"\n",
       " \"34\"\n",
       " \"22\"\n",
       " \"19\"\n",
       " \"10\"\n",
       " \"19\"\n",
       " \"29\""
      ]
     },
     "execution_count": 13,
     "metadata": {},
     "output_type": "execute_result"
    }
   ],
   "source": [
    "# Print out the result to have a check\n",
    "bookprice"
   ]
  },
  {
   "cell_type": "markdown",
   "metadata": {},
   "source": [
    "#### Step 9: URL for book description\n",
    "\n",
    "Obtain the book URLS from their attribute href"
   ]
  },
  {
   "cell_type": "code",
   "execution_count": 14,
   "metadata": {},
   "outputs": [
    {
     "data": {
      "text/plain": [
       "12-element Array{String,1}:\n",
       " \"/childrens-non-fiction/activity-books/100-easy-steam-activities\"\n",
       " \"/childrens-non-fiction/activity-books/100-superplanes-to-fold-and-fly\"\n",
       " \"/childrens-non-fiction/activity-books/101-things-for-kids-to-do-screen-free\"\n",
       " \"/childrens-non-fiction/activity-books/Action\"\n",
       " \"/childrens-non-fiction/activity-books/amazing-aotearoa-activity-book\"\n",
       " \"/childrens-non-fiction/activity-books/amazing-area-mazes\"\n",
       " \"/childrens-non-fiction/activity-books/amazing-lego-creations-from-space-with-bricks-you-already-have\"\n",
       " \"/childrens-non-fiction/activity-books/animal-magnets\"\n",
       " \"/childrens-non-fiction/activity-books/animal-scramble\"\n",
       " \"/childrens-non-fiction/activity-books/animals-5\"\n",
       " \"/childrens-non-fiction/activity-books/art-for-little-kids\"\n",
       " \"/childrens-non-fiction/activity-books/art-out-of-the-box\""
      ]
     },
     "execution_count": 14,
     "metadata": {},
     "output_type": "execute_result"
    }
   ],
   "source": [
    "# Get href from each book\n",
    "book_links = getattr.(bookname_frompage,\"href\")"
   ]
  },
  {
   "cell_type": "markdown",
   "metadata": {},
   "source": [
    "#### Step 10: Organize the information into dataframe\n",
    "\n",
    "1. Using the DataFrame method, combine the arrays into a dataframe. Convert price from string to Int"
   ]
  },
  {
   "cell_type": "code",
   "execution_count": 15,
   "metadata": {
    "scrolled": true
   },
   "outputs": [
    {
     "name": "stderr",
     "output_type": "stream",
     "text": [
      "┌ Warning: `getindex(df::DataFrame, col_ind::ColumnIndex)` is deprecated, use `df[!, col_ind]` instead.\n",
      "│   caller = top-level scope at In[15]:2\n",
      "└ @ Core In[15]:2\n",
      "┌ Warning: `setindex!(df::DataFrame, v::AbstractVector, col_ind::ColumnIndex)` is deprecated, use `begin\n",
      "│     df[!, col_ind] = v\n",
      "│     df\n",
      "│ end` instead.\n",
      "│   caller = top-level scope at In[15]:2\n",
      "└ @ Core In[15]:2\n"
     ]
    },
    {
     "data": {
      "text/html": [
       "<table class=\"data-frame\"><thead><tr><th></th><th>bookname</th><th>bookprice</th><th>book_links</th></tr><tr><th></th><th>String</th><th>Int64</th><th>String</th></tr></thead><tbody><p>12 rows × 3 columns</p><tr><th>1</th><td>100 Easy STEAM Activities</td><td>34</td><td>/childrens-non-fiction/activity-books/100-easy-steam-activities</td></tr><tr><th>2</th><td>100 Superplanes to Fold and Fly</td><td>16</td><td>/childrens-non-fiction/activity-books/100-superplanes-to-fold-and-fly</td></tr><tr><th>3</th><td>101 Things for Kids to do Screen-free</td><td>34</td><td>/childrens-non-fiction/activity-books/101-things-for-kids-to-do-screen-free</td></tr><tr><th>4</th><td>Action</td><td>14</td><td>/childrens-non-fiction/activity-books/Action</td></tr><tr><th>5</th><td>Amazing Aotearoa Activity Book</td><td>25</td><td>/childrens-non-fiction/activity-books/amazing-aotearoa-activity-book</td></tr><tr><th>6</th><td>Amazing Area Mazes</td><td>21</td><td>/childrens-non-fiction/activity-books/amazing-area-mazes</td></tr><tr><th>7</th><td>Amazing Lego Creations from Space with Bricks You Already Have</td><td>34</td><td>/childrens-non-fiction/activity-books/amazing-lego-creations-from-space-with-bricks-you-already-have</td></tr><tr><th>8</th><td>Animal Magnets</td><td>22</td><td>/childrens-non-fiction/activity-books/animal-magnets</td></tr><tr><th>9</th><td>Animal Scramble</td><td>19</td><td>/childrens-non-fiction/activity-books/animal-scramble</td></tr><tr><th>10</th><td>Animals</td><td>10</td><td>/childrens-non-fiction/activity-books/animals-5</td></tr><tr><th>11</th><td>Art for Little Kids</td><td>19</td><td>/childrens-non-fiction/activity-books/art-for-little-kids</td></tr><tr><th>12</th><td>Art Out of the Box</td><td>29</td><td>/childrens-non-fiction/activity-books/art-out-of-the-box</td></tr></tbody></table>"
      ],
      "text/latex": [
       "\\begin{tabular}{r|ccc}\n",
       "\t& bookname & bookprice & book\\_links\\\\\n",
       "\t\\hline\n",
       "\t& String & Int64 & String\\\\\n",
       "\t\\hline\n",
       "\t1 & 100 Easy STEAM Activities & 34 & /childrens-non-fiction/activity-books/100-easy-steam-activities \\\\\n",
       "\t2 & 100 Superplanes to Fold and Fly & 16 & /childrens-non-fiction/activity-books/100-superplanes-to-fold-and-fly \\\\\n",
       "\t3 & 101 Things for Kids to do Screen-free & 34 & /childrens-non-fiction/activity-books/101-things-for-kids-to-do-screen-free \\\\\n",
       "\t4 & Action & 14 & /childrens-non-fiction/activity-books/Action \\\\\n",
       "\t5 & Amazing Aotearoa Activity Book & 25 & /childrens-non-fiction/activity-books/amazing-aotearoa-activity-book \\\\\n",
       "\t6 & Amazing Area Mazes & 21 & /childrens-non-fiction/activity-books/amazing-area-mazes \\\\\n",
       "\t7 & Amazing Lego Creations from Space with Bricks You Already Have & 34 & /childrens-non-fiction/activity-books/amazing-lego-creations-from-space-with-bricks-you-already-have \\\\\n",
       "\t8 & Animal Magnets & 22 & /childrens-non-fiction/activity-books/animal-magnets \\\\\n",
       "\t9 & Animal Scramble & 19 & /childrens-non-fiction/activity-books/animal-scramble \\\\\n",
       "\t10 & Animals & 10 & /childrens-non-fiction/activity-books/animals-5 \\\\\n",
       "\t11 & Art for Little Kids & 19 & /childrens-non-fiction/activity-books/art-for-little-kids \\\\\n",
       "\t12 & Art Out of the Box & 29 & /childrens-non-fiction/activity-books/art-out-of-the-box \\\\\n",
       "\\end{tabular}\n"
      ],
      "text/plain": [
       "12×3 DataFrame. Omitted printing of 2 columns\n",
       "│ Row │ bookname                                                       │\n",
       "│     │ \u001b[90mString\u001b[39m                                                         │\n",
       "├─────┼────────────────────────────────────────────────────────────────┤\n",
       "│ 1   │ 100 Easy STEAM Activities                                      │\n",
       "│ 2   │ 100 Superplanes to Fold and Fly                                │\n",
       "│ 3   │ 101 Things for Kids to do Screen-free                          │\n",
       "│ 4   │ Action                                                         │\n",
       "│ 5   │ Amazing Aotearoa Activity Book                                 │\n",
       "│ 6   │ Amazing Area Mazes                                             │\n",
       "│ 7   │ Amazing Lego Creations from Space with Bricks You Already Have │\n",
       "│ 8   │ Animal Magnets                                                 │\n",
       "│ 9   │ Animal Scramble                                                │\n",
       "│ 10  │ Animals                                                        │\n",
       "│ 11  │ Art for Little Kids                                            │\n",
       "│ 12  │ Art Out of the Box                                             │"
      ]
     },
     "execution_count": 15,
     "metadata": {},
     "output_type": "execute_result"
    }
   ],
   "source": [
    "df = DataFrame(bookname= bookname, bookprice =bookprice, book_links = book_links)\n",
    "df[:bookprice] = [parse(Int,x) for x in df[:bookprice]] \n",
    "df"
   ]
  },
  {
   "cell_type": "markdown",
   "metadata": {},
   "source": [
    "2. Define a base URL and test the sample booklink to see if there is a response"
   ]
  },
  {
   "cell_type": "code",
   "execution_count": 16,
   "metadata": {},
   "outputs": [
    {
     "data": {
      "text/plain": [
       "\"https://ubscan.worldsecuresystems.com\""
      ]
     },
     "execution_count": 16,
     "metadata": {},
     "output_type": "execute_result"
    }
   ],
   "source": [
    "const baseURL = \"https://ubscan.worldsecuresystems.com\"\n",
    "# warning! I didn't include the last \"/\" because all the links have already it!\n"
   ]
  },
  {
   "cell_type": "code",
   "execution_count": 17,
   "metadata": {
    "scrolled": true
   },
   "outputs": [
    {
     "data": {
      "text/plain": [
       "HTTP.Messages.Response:\n",
       "\"\"\"\n",
       "HTTP/1.1 200 OK\r\n",
       "Server: openresty\r\n",
       "Date: Sun, 04 Oct 2020 02:30:51 GMT\r\n",
       "Content-Type: text/html; charset=utf-8\r\n",
       "Content-Length: 12210\r\n",
       "Connection: keep-alive\r\n",
       "Cache-Control: private\r\n",
       "Set-Cookie: visitorDeviceClass=desktop; path=/\r\n",
       "Set-Cookie: ASP.NET_SessionId=htyzgvmxgh1jbol3ksad25b1; path=/; HttpOnly; SameSite=Lax\r\n",
       "X-FullPageCaching: Served\r\n",
       "Set-Cookie: visitorDeviceClass=desktop; path=/\r\n",
       "Set-Cookie: ASP.NET_SessionId=htyzgvmxgh1jbol3ksad25b1; path=/; HttpOnly; SameSite=Lax\r\n",
       "Set-Cookie: ANONID_FS1188206=04.10.2020 02:30:51.554; domain=ubscan.worldsecuresystems.com; expires=Mon, 04-Oct-2021 02:30:51 GMT; path=/\r\n",
       "Set-Cookie: ANONID1188206=88b5b581-6e41-44e3-8a98-66c0b47332c1; domain=ubscan.worldsecuresystems.com; expires=Mon, 04-Oct-2021 02:30:51 GMT; path=/\r\n",
       "Set-Cookie: VISID1188206=efcc6f3c-41a7-4dfc-a167-314c035440de#ubscan.worldsecuresystems.com#04.10.2020 02:30:51.554; domain=ubscan.worldsecuresystems.com; expires=Sun, 04-Oct-2020 03:00:51 GMT; path=/\r\n",
       "X-Frame-Options: allowall\r\n",
       "X-XSS-Protection: 1; mode=block\r\n",
       "Strict-Transport-Security: max-age=15724800; includeSubDomains\r\n",
       "\r\n",
       "<!DOCTYPE html>\r\n",
       "<html xmlns=\"http://www.w3.org/1999/xhtml\">\r\n",
       "\n",
       "    <!-- BC_OBNW -->\r\n",
       "<head>\r\n",
       "<meta http-equiv=\"Content-Type\" content=\"text/html; charset=utf-8\" />\r\n",
       "<title>100 Easy STEAM Activities</title>\r\n",
       "<link type=\"text/css\" href=\"/StyleSheets/ModuleStyleSheets.css\" rel=\"StyleSheet\" />\r\n",
       "<script type=\"text/javascript\">var jslang='EN';</script>\r\n",
       "<link rel=\"stylesheet\" href=\"/CatalystStyles/Box.css?vs=b8.33cb2ecf-phase1\" type=\"text/css\" media=\"screen\" />\r\n",
       "<script type=\"text/javascript\" src=\"/CatalystScripts/Java_OnlineShopping.js?vs=b8.33cb2ecf-phase1\"></script>\r\n",
       "<script type=\"text/javascript\" src=\"/CatalystScripts/Java_Cookies.js?vs=b8.33cb2ecf-phase1\"></script>\r\n",
       "<script type=\"text/javascript\" src=\"/CatalystScripts/Java_Box.js?vs=b8.33cb2ecf-phase1\"></script>\r\n",
       "<script type=\"text/javascript\" src=\"/ajaxpro/prototype-core.ashx\"></script>\r\n",
       "<script type=\"text/javascript\" src=\"/ajaxpro/CMS.CatalogueRetrieve,Catalyst.Web.CMS.ashx\"></script>\r\n",
       "<link href=\"/stylesheets/all.css\" rel=\"stylesheet\"\n",
       "⋮\n",
       "12210-byte body\n",
       "\"\"\""
      ]
     },
     "execution_count": 17,
     "metadata": {},
     "output_type": "execute_result"
    }
   ],
   "source": [
    "# Try one link\n",
    "first_link = book_links[1]\n",
    "response = HTTP.request(\"GET\",\"$baseURL$first_link\") # we read the right page glueing together the base url and the link we got before\n"
   ]
  },
  {
   "cell_type": "markdown",
   "metadata": {},
   "source": [
    "3. Response was obtained. \n",
    "\n",
    "\n",
    "#### Step 11: Make it automatically\n",
    "\n",
    "Now a function needs to be defined to pass all the URL and obtain the book availability and desc from the URL.\n",
    "\n",
    "1. Creating an empty string array to save bookdetails and bookavl"
   ]
  },
  {
   "cell_type": "code",
   "execution_count": 18,
   "metadata": {},
   "outputs": [
    {
     "data": {
      "text/plain": [
       "0-element Array{String,1}"
      ]
     },
     "execution_count": 18,
     "metadata": {},
     "output_type": "execute_result"
    }
   ],
   "source": [
    "sel_bookdetails = Selector(\".description\")\n",
    "sel_avl = Selector(\".instock\")\n",
    "bookdetails =String[]\n",
    "bookavl= String[]"
   ]
  },
  {
   "cell_type": "markdown",
   "metadata": {},
   "source": [
    "2. Define a function to return text from the HTML element"
   ]
  },
  {
   "cell_type": "code",
   "execution_count": 19,
   "metadata": {},
   "outputs": [
    {
     "data": {
      "text/plain": [
       "get_html_text (generic function with 1 method)"
      ]
     },
     "execution_count": 19,
     "metadata": {},
     "output_type": "execute_result"
    }
   ],
   "source": [
    "function get_html_text(query_result)\n",
    "    text = strip(Gumbo.text(query_result[1]))\n",
    "    if length(text) > 0\n",
    "      return text\n",
    "    end\n",
    "    return nothing\n",
    "  end"
   ]
  },
  {
   "cell_type": "markdown",
   "metadata": {},
   "source": [
    "3. Define a function to return the book info [price and detail] for each of the book link passed"
   ]
  },
  {
   "cell_type": "code",
   "execution_count": 20,
   "metadata": {},
   "outputs": [
    {
     "data": {
      "text/plain": [
       "get_book_info (generic function with 3 methods)"
      ]
     },
     "execution_count": 20,
     "metadata": {},
     "output_type": "execute_result"
    }
   ],
   "source": [
    "function get_book_info(url,valtype =1,baseurl = baseURL)\n",
    "  link_page = HTTP.get(string(baseurl, url))\n",
    "  body = String(link_page.body)\n",
    "  html = parsehtml(body)\n",
    "  bookdetails_frompage = eachmatch(sel_bookdetails,html.root)\n",
    "  bookavl_frompage = eachmatch(sel_avl,html.root)\n",
    "    if valtype ==1\n",
    "        push!(bookdetails,get_html_text(bookdetails_frompage))\n",
    "        else\n",
    "        push!(bookavl,get_html_text(bookavl_frompage))\n",
    "    end\n",
    "end\n"
   ]
  },
  {
   "cell_type": "markdown",
   "metadata": {},
   "source": [
    "4. Pass the book links in a for loop to the function to obtain the results"
   ]
  },
  {
   "cell_type": "code",
   "execution_count": 21,
   "metadata": {},
   "outputs": [],
   "source": [
    "#for loop to obtain book names\n",
    "for i = 1:length(book_links[:])\n",
    "    try\n",
    "      get_book_info(book_links[i],1)\n",
    "      get_book_info(book_links[i],2)\n",
    "    catch\n",
    "      nothing\n",
    "    end\n",
    "end"
   ]
  },
  {
   "cell_type": "markdown",
   "metadata": {},
   "source": [
    "#### Step 12: Check the values obtained"
   ]
  },
  {
   "cell_type": "code",
   "execution_count": 22,
   "metadata": {},
   "outputs": [
    {
     "data": {
      "text/plain": [
       "3-element Array{String,1}:\n",
       " \"With Andrea Scalzo Yi's activities, teaching children the basic tenants of science, technology, engineering art and math is easier-and more fun-than ever. Using just a few everyday objects, children can engage in educational activities so fun that they won't even know they're learning! Each experiment or activity teaches kids about one or more STEAM principle, and many even incorporate principles from different categories for a more comprehensive learning experience.  Kids will love designing and constructing mini catapults and making rain clouds using shaving cream and food coloring. Even young toddlers can get in on the fun with activities that teach them about magnetism, static electricity and more.  A variety of project ideas-including seasonal activities like candy corn stacking challenges and marshmallow igloos-ensure that kids won't have any problem finding an activity that will allow them to have fun while learning essential STEAM principles. ISBN: 9781624148927 Publication date: 10/12/2019 Price: \\$34.99 Author: Yi, Andrea Scalzo Format: Paperback\"\n",
       " \"Featuring brand new paper plane models, simple step-by-step folding instructions and a suite of futuristic designs inspired by next-generation planes and spaceplanes, this book is perfect for young and old fans of other Usborne paper planes books. ISBN: 9781474986250 Publication date: 29/10/2020 Price: \\$16.99 Author: Wheatley, Abigail Format: Paperback\"\n",
       " \"From bestselling kids' activity author Dawn Isaac comes this exciting new volume full of creative, fun and occasionally silly ideas for games and activities.  From creating a mini golf course to mastering hands-free eating, from squirt gun painting to microwave mug cakes, every single activity is fun, easy and 100 per cent screen free. With exciting makes including no-sew sock creatures and stress balls, and wacky games such as outdoor noughts and crosses and thumb wrestling tournaments, Dawn's engaging and entertaining ideas are sure to provide hours of fun. So put away your tablets and mobile phones, switch off the TV and leave the computer alone - it's time to get screen free. ISBN: 9780857835291 Publication date: 02/04/2020 Price: \\$34.99 Author: Isaac, Dawn Format: Paperback\""
      ]
     },
     "execution_count": 22,
     "metadata": {},
     "output_type": "execute_result"
    }
   ],
   "source": [
    "bookdetails[1:3]"
   ]
  },
  {
   "cell_type": "code",
   "execution_count": 23,
   "metadata": {},
   "outputs": [
    {
     "data": {
      "text/plain": [
       "3-element Array{String,1}:\n",
       " \"Availability :  1\"\n",
       " \"Availability :  0\"\n",
       " \"Availability :  0\""
      ]
     },
     "execution_count": 23,
     "metadata": {},
     "output_type": "execute_result"
    }
   ],
   "source": [
    "bookavl[1:3]"
   ]
  },
  {
   "cell_type": "markdown",
   "metadata": {},
   "source": [
    "#### Step 13: Information organization\n",
    "\n",
    "1. Create a new dataframe to combine the book link with book details and availability"
   ]
  },
  {
   "cell_type": "code",
   "execution_count": 24,
   "metadata": {},
   "outputs": [
    {
     "data": {
      "text/html": [
       "<table class=\"data-frame\"><thead><tr><th></th><th>book_links</th></tr><tr><th></th><th>String</th></tr></thead><tbody><p>12 rows × 3 columns (omitted printing of 2 columns)</p><tr><th>1</th><td>/childrens-non-fiction/activity-books/100-easy-steam-activities</td></tr><tr><th>2</th><td>/childrens-non-fiction/activity-books/100-superplanes-to-fold-and-fly</td></tr><tr><th>3</th><td>/childrens-non-fiction/activity-books/101-things-for-kids-to-do-screen-free</td></tr><tr><th>4</th><td>/childrens-non-fiction/activity-books/Action</td></tr><tr><th>5</th><td>/childrens-non-fiction/activity-books/amazing-aotearoa-activity-book</td></tr><tr><th>6</th><td>/childrens-non-fiction/activity-books/amazing-area-mazes</td></tr><tr><th>7</th><td>/childrens-non-fiction/activity-books/amazing-lego-creations-from-space-with-bricks-you-already-have</td></tr><tr><th>8</th><td>/childrens-non-fiction/activity-books/animal-magnets</td></tr><tr><th>9</th><td>/childrens-non-fiction/activity-books/animal-scramble</td></tr><tr><th>10</th><td>/childrens-non-fiction/activity-books/animals-5</td></tr><tr><th>11</th><td>/childrens-non-fiction/activity-books/art-for-little-kids</td></tr><tr><th>12</th><td>/childrens-non-fiction/activity-books/art-out-of-the-box</td></tr></tbody></table>"
      ],
      "text/latex": [
       "\\begin{tabular}{r|cc}\n",
       "\t& book\\_links & \\\\\n",
       "\t\\hline\n",
       "\t& String & \\\\\n",
       "\t\\hline\n",
       "\t1 & /childrens-non-fiction/activity-books/100-easy-steam-activities & $\\dots$ \\\\\n",
       "\t2 & /childrens-non-fiction/activity-books/100-superplanes-to-fold-and-fly & $\\dots$ \\\\\n",
       "\t3 & /childrens-non-fiction/activity-books/101-things-for-kids-to-do-screen-free & $\\dots$ \\\\\n",
       "\t4 & /childrens-non-fiction/activity-books/Action & $\\dots$ \\\\\n",
       "\t5 & /childrens-non-fiction/activity-books/amazing-aotearoa-activity-book & $\\dots$ \\\\\n",
       "\t6 & /childrens-non-fiction/activity-books/amazing-area-mazes & $\\dots$ \\\\\n",
       "\t7 & /childrens-non-fiction/activity-books/amazing-lego-creations-from-space-with-bricks-you-already-have & $\\dots$ \\\\\n",
       "\t8 & /childrens-non-fiction/activity-books/animal-magnets & $\\dots$ \\\\\n",
       "\t9 & /childrens-non-fiction/activity-books/animal-scramble & $\\dots$ \\\\\n",
       "\t10 & /childrens-non-fiction/activity-books/animals-5 & $\\dots$ \\\\\n",
       "\t11 & /childrens-non-fiction/activity-books/art-for-little-kids & $\\dots$ \\\\\n",
       "\t12 & /childrens-non-fiction/activity-books/art-out-of-the-box & $\\dots$ \\\\\n",
       "\\end{tabular}\n"
      ],
      "text/plain": [
       "12×3 DataFrame. Omitted printing of 3 columns\n",
       "│ Row │ │     │ ├─────┼\n",
       "│ 1   │ │ 2   │ │ 3   │ │ 4   │ │ 5   │ │ 6   │ │ 7   │ │ 8   │ │ 9   │ │ 10  │ │ 11  │ │ 12  │ "
      ]
     },
     "execution_count": 24,
     "metadata": {},
     "output_type": "execute_result"
    }
   ],
   "source": [
    "df2 = DataFrame( book_links = book_links,bookdetails= bookdetails, bookavl =bookavl)\n"
   ]
  },
  {
   "cell_type": "markdown",
   "metadata": {},
   "source": [
    "2. Combine both the dataframes to obtain a final dataframe that contails all details scrapped on the books from two different pages."
   ]
  },
  {
   "cell_type": "code",
   "execution_count": 25,
   "metadata": {
    "scrolled": true
   },
   "outputs": [
    {
     "data": {
      "text/html": [
       "<table class=\"data-frame\"><thead><tr><th></th><th>bookname</th><th>bookprice</th><th>book_links</th></tr><tr><th></th><th>String</th><th>Int64</th><th>String</th></tr></thead><tbody><p>12 rows × 5 columns (omitted printing of 2 columns)</p><tr><th>1</th><td>100 Easy STEAM Activities</td><td>34</td><td>/childrens-non-fiction/activity-books/100-easy-steam-activities</td></tr><tr><th>2</th><td>100 Superplanes to Fold and Fly</td><td>16</td><td>/childrens-non-fiction/activity-books/100-superplanes-to-fold-and-fly</td></tr><tr><th>3</th><td>101 Things for Kids to do Screen-free</td><td>34</td><td>/childrens-non-fiction/activity-books/101-things-for-kids-to-do-screen-free</td></tr><tr><th>4</th><td>Action</td><td>14</td><td>/childrens-non-fiction/activity-books/Action</td></tr><tr><th>5</th><td>Amazing Aotearoa Activity Book</td><td>25</td><td>/childrens-non-fiction/activity-books/amazing-aotearoa-activity-book</td></tr><tr><th>6</th><td>Amazing Area Mazes</td><td>21</td><td>/childrens-non-fiction/activity-books/amazing-area-mazes</td></tr><tr><th>7</th><td>Amazing Lego Creations from Space with Bricks You Already Have</td><td>34</td><td>/childrens-non-fiction/activity-books/amazing-lego-creations-from-space-with-bricks-you-already-have</td></tr><tr><th>8</th><td>Animal Magnets</td><td>22</td><td>/childrens-non-fiction/activity-books/animal-magnets</td></tr><tr><th>9</th><td>Animal Scramble</td><td>19</td><td>/childrens-non-fiction/activity-books/animal-scramble</td></tr><tr><th>10</th><td>Animals</td><td>10</td><td>/childrens-non-fiction/activity-books/animals-5</td></tr><tr><th>11</th><td>Art for Little Kids</td><td>19</td><td>/childrens-non-fiction/activity-books/art-for-little-kids</td></tr><tr><th>12</th><td>Art Out of the Box</td><td>29</td><td>/childrens-non-fiction/activity-books/art-out-of-the-box</td></tr></tbody></table>"
      ],
      "text/latex": [
       "\\begin{tabular}{r|cccc}\n",
       "\t& bookname & bookprice & book\\_links & \\\\\n",
       "\t\\hline\n",
       "\t& String & Int64 & String & \\\\\n",
       "\t\\hline\n",
       "\t1 & 100 Easy STEAM Activities & 34 & /childrens-non-fiction/activity-books/100-easy-steam-activities & $\\dots$ \\\\\n",
       "\t2 & 100 Superplanes to Fold and Fly & 16 & /childrens-non-fiction/activity-books/100-superplanes-to-fold-and-fly & $\\dots$ \\\\\n",
       "\t3 & 101 Things for Kids to do Screen-free & 34 & /childrens-non-fiction/activity-books/101-things-for-kids-to-do-screen-free & $\\dots$ \\\\\n",
       "\t4 & Action & 14 & /childrens-non-fiction/activity-books/Action & $\\dots$ \\\\\n",
       "\t5 & Amazing Aotearoa Activity Book & 25 & /childrens-non-fiction/activity-books/amazing-aotearoa-activity-book & $\\dots$ \\\\\n",
       "\t6 & Amazing Area Mazes & 21 & /childrens-non-fiction/activity-books/amazing-area-mazes & $\\dots$ \\\\\n",
       "\t7 & Amazing Lego Creations from Space with Bricks You Already Have & 34 & /childrens-non-fiction/activity-books/amazing-lego-creations-from-space-with-bricks-you-already-have & $\\dots$ \\\\\n",
       "\t8 & Animal Magnets & 22 & /childrens-non-fiction/activity-books/animal-magnets & $\\dots$ \\\\\n",
       "\t9 & Animal Scramble & 19 & /childrens-non-fiction/activity-books/animal-scramble & $\\dots$ \\\\\n",
       "\t10 & Animals & 10 & /childrens-non-fiction/activity-books/animals-5 & $\\dots$ \\\\\n",
       "\t11 & Art for Little Kids & 19 & /childrens-non-fiction/activity-books/art-for-little-kids & $\\dots$ \\\\\n",
       "\t12 & Art Out of the Box & 29 & /childrens-non-fiction/activity-books/art-out-of-the-box & $\\dots$ \\\\\n",
       "\\end{tabular}\n"
      ],
      "text/plain": [
       "12×5 DataFrame. Omitted printing of 4 columns\n",
       "│ Row │ bookname                                                       │\n",
       "│     │ \u001b[90mString\u001b[39m                                                         │\n",
       "├─────┼────────────────────────────────────────────────────────────────┤\n",
       "│ 1   │ 100 Easy STEAM Activities                                      │\n",
       "│ 2   │ 100 Superplanes to Fold and Fly                                │\n",
       "│ 3   │ 101 Things for Kids to do Screen-free                          │\n",
       "│ 4   │ Action                                                         │\n",
       "│ 5   │ Amazing Aotearoa Activity Book                                 │\n",
       "│ 6   │ Amazing Area Mazes                                             │\n",
       "│ 7   │ Amazing Lego Creations from Space with Bricks You Already Have │\n",
       "│ 8   │ Animal Magnets                                                 │\n",
       "│ 9   │ Animal Scramble                                                │\n",
       "│ 10  │ Animals                                                        │\n",
       "│ 11  │ Art for Little Kids                                            │\n",
       "│ 12  │ Art Out of the Box                                             │"
      ]
     },
     "execution_count": 25,
     "metadata": {},
     "output_type": "execute_result"
    }
   ],
   "source": [
    "finaldf = innerjoin(df, df2, on = :book_links)"
   ]
  },
  {
   "cell_type": "markdown",
   "metadata": {},
   "source": [
    "#### Step 14: Check the result! \n",
    "### Perfect! We Got what we want!"
   ]
  },
  {
   "cell_type": "code",
   "execution_count": 26,
   "metadata": {},
   "outputs": [
    {
     "name": "stdout",
     "output_type": "stream",
     "text": [
      "12×5 DataFrame\n",
      "│ Row │ bookname                                                       │\n",
      "│     │ \u001b[90mString\u001b[39m                                                         │\n",
      "├─────┼────────────────────────────────────────────────────────────────┤\n",
      "│ 1   │ 100 Easy STEAM Activities                                      │\n",
      "│ 2   │ 100 Superplanes to Fold and Fly                                │\n",
      "│ 3   │ 1"
     ]
    },
    {
     "name": "stderr",
     "output_type": "stream",
     "text": [
      "┌ Warning: `showall(df::AbstractDataFrame, allcols::Bool = true)` is deprecated, use `show(df, allrows = true, allcols = allcols)` instead.\n",
      "│   caller = showall(::DataFrame) at deprecated.jl:66\n",
      "└ @ DataFrames .\\deprecated.jl:66\n"
     ]
    },
    {
     "name": "stdout",
     "output_type": "stream",
     "text": [
      "01 Things for Kids to do Screen-free                          │\n",
      "│ 4   │ Action                                                         │\n",
      "│ 5   │ Amazing Aotearoa Activity Book                                 │\n",
      "│ 6   │ Amazing Area Mazes                                             │\n",
      "│ 7   │ Amazing Lego Creations from Space with Bricks You Already Have │\n",
      "│ 8   │ Animal Magnets                                                 │\n",
      "│ 9   │ Animal Scramble                                                │\n",
      "│ 10  │ Animals                                                        │\n",
      "│ 11  │ Art for Little Kids                                            │\n",
      "│ 12  │ Art Out of the Box                                             │\n",
      "\n",
      "│ Row │ bookprice │\n",
      "│     │ \u001b[90mInt64\u001b[39m     │\n",
      "├─────┼───────────┤\n",
      "│ 1   │ 34        │\n",
      "│ 2   │ 16        │\n",
      "│ 3   │ 34        │\n",
      "│ 4   │ 14        │\n",
      "│ 5   │ 25        │\n",
      "│ 6   │ 21        │\n",
      "│ 7   │ 34        │\n",
      "│ 8   │ 22        │\n",
      "│ 9   │ 19        │\n",
      "│ 10  │ 10        │\n",
      "│ 11  │ 19        │\n",
      "│ 12  │ 29        │\n",
      "\n",
      "│ Row │ book_links                                                                                           │\n",
      "│     │ \u001b[90mString\u001b[39m                                                                                               │\n",
      "├─────┼──────────────────────────────────────────────────────────────────────────────────────────────────────┤\n",
      "│ 1   │ /childrens-non-fiction/activity-books/100-easy-steam-activities                                      │\n",
      "│ 2   │ /childrens-non-fiction/activity-books/100-superplanes-to-fold-and-fly                                │\n",
      "│ 3   │ /childrens-non-fiction/activity-books/101-things-for-kids-to-do-screen-free                          │\n",
      "│ 4   │ /childrens-non-fiction/activity-books/Action                                                         │\n",
      "│ 5   │ /childrens-non-fiction/activity-books/amazing-aotearoa-activity-book                                 │\n",
      "│ 6   │ /childrens-non-fiction/activity-books/amazing-area-mazes                                             │\n",
      "│ 7   │ /childrens-non-fiction/activity-books/amazing-lego-creations-from-space-with-bricks-you-already-have │\n",
      "│ 8   │ /childrens-non-fiction/activity-books/animal-magnets                                                 │\n",
      "│ 9   │ /childrens-non-fiction/activity-books/animal-scramble                                                │\n",
      "│ 10  │ /childrens-non-fiction/activity-books/animals-5                                                      │\n",
      "│ 11  │ /childrens-non-fiction/activity-books/art-for-little-kids                                            │\n",
      "│ 12  │ /childrens-non-fiction/activity-books/art-out-of-the-box                                             │\n",
      "\n",
      "│ Row │ bookdetails                                                                                                                                                                                                                                                                                                                                                                                                                                                                                                                                                                                                                                                                                                                                                                                                                                                                                                                                                                                                                                                                                                                                                                                                                                                                                                                                                                                                                                                                                                                                                                                                                                                                                                                                                                                                                                                                                                                                                                                                                                                                                                                                                                                                                                                                 │\n",
      "│     │ \u001b[90mString\u001b[39m                                                                                                                                                                                                                                                                                                                                                                                                                                                                                                                                                                                                                                                                                                                                                                                                                                                                                                                                                                                                                                                                                                                                                                                                                                                                                                                                                                                                                                                                                                                                                                                                                                                                                                                                                                                                                                                                                                                                                                                                                                                                                                                                                                                                                                                                      │\n",
      "├─────┼─────────────────────────────────────────────────────────────────────────────────────────────────────────────────────────────────────────────────────────────────────────────────────────────────────────────────────────────────────────────────────────────────────────────────────────────────────────────────────────────────────────────────────────────────────────────────────────────────────────────────────────────────────────────────────────────────────────────────────────────────────────────────────────────────────────────────────────────────────────────────────────────────────────────────────────────────────────────────────────────────────────────────────────────────────────────────────────────────────────────────────────────────────────────────────────────────────────────────────────────────────────────────────────────────────────────────────────────────────────────────────────────────────────────────────────────────────────────────────────────────────────────────────────────────────────────────────────────────────────────────────────────────────────────────────────────────────────────────────────────────────────────────────────────────────────────────────────────────────────────────────────────────────────────────────────────────────────────────────────────────────────────────────────────────────────────────────────────────────────────────────────────────────────────────────────────────────────────────────────────────────────────────────────────────────────────────────────────────────────────────────────────────────────────────────────────────────────────────────────────────────────────────────────────────────────────────────────────────────────────────────────────────────────────────────────────────────────────────────────────────────────────────────────────────────────────────────────────────────────────────────────────────────────────────────────────────────────────────────────────────────────────────────────────────────────────────────────────────────────────────────────────────────────────────────────────────────────────────────────────────────────────────────────────────────────────────────────────────────────────────────────────────────────────┤\n",
      "│ 1   │ With Andrea Scalzo Yi's activities, teaching children the basic tenants of science, technology, engineering art and math is easier-and more fun-than ever. Using just a few everyday objects, children can engage in educational activities so fun that they won't even know they're learning! Each experiment or activity teaches kids about one or more STEAM principle, and many even incorporate principles from different categories for a more comprehensive learning experience.  Kids will love designing and constructing mini catapults and making rain clouds using shaving cream and food coloring. Even young toddlers can get in on the fun with activities that teach them about magnetism, static electricity and more.  A variety of project ideas-including seasonal activities like candy corn stacking challenges and marshmallow igloos-ensure that kids won't have any problem finding an activity that will allow them to have fun while learning essential STEAM principles. ISBN: 9781624148927 Publication date: 10/12/2019 Price: $34.99 Author: Yi, Andrea Scalzo Format: Paperback                                                                                                                                                                                                                                                                                                                                                                                                                                                                                                                                                                                                                                                                                                                                                                                                                                                                                                                                                                                                                                                                                                                                                             │\n",
      "│ 2   │ Featuring brand new paper plane models, simple step-by-step folding instructions and a suite of futuristic designs inspired by next-generation planes and spaceplanes, this book is perfect for young and old fans of other Usborne paper planes books. ISBN: 9781474986250 Publication date: 29/10/2020 Price: $16.99 Author: Wheatley, Abigail Format: Paperback                                                                                                                                                                                                                                                                                                                                                                                                                                                                                                                                                                                                                                                                                                                                                                                                                                                                                                                                                                                                                                                                                                                                                                                                                                                                                                                                                                                                                                                                                                                                                                                                                                                                                                                                                                                                                                                                                                          │\n",
      "│ 3   │ From bestselling kids' activity author Dawn Isaac comes this exciting new volume full of creative, fun and occasionally silly ideas for games and activities.  From creating a mini golf course to mastering hands-free eating, from squirt gun painting to microwave mug cakes, every single activity is fun, easy and 100 per cent screen free. With exciting makes including no-sew sock creatures and stress balls, and wacky games such as outdoor noughts and crosses and thumb wrestling tournaments, Dawn's engaging and entertaining ideas are sure to provide hours of fun. So put away your tablets and mobile phones, switch off the TV and leave the computer alone - it's time to get screen free. ISBN: 9780857835291 Publication date: 02/04/2020 Price: $34.99 Author: Isaac, Dawn Format: Paperback                                                                                                                                                                                                                                                                                                                                                                                                                                                                                                                                                                                                                                                                                                                                                                                                                                                                                                                                                                                                                                                                                                                                                                                                                                                                                                                                                                                                                                                       │\n",
      "│ 4   │ From private investigators and fire fighters, to movie stars and stunt artists, this action-packed book is packed with dolls to dress with over 300 stickers. With extra accessories to add including helmets, harnesses, tool kits and special technology. A fun sticker book for young go-getters! Illustrations:Full colour throughout WARNING! Not suitable for children under 36 months because of small parts. Choking Hazard. ISBN: 9781474959636 Publication date: 07/03/2019 Price: $14.99 Author: Watt, Fiona Format: Paperback                                                                                                                                                                                                                                                                                                                                                                                                                                                                                                                                                                                                                                                                                                                                                                                                                                                                                                                                                                                                                                                                                                                                                                                                                                                                                                                                                                                                                                                                                                                                                                                                                                                                                                                                   │\n",
      "│ 5   │ You'll have lots of creative fun with this book full of puzzles, quizzes and activities that explore Aotearoa New Zealand and its people.  Based on Gavin Bishop's bestselling Aotearoa- The New Zealand Story and Wildlife of Aotearoa, this activity book is a place for you to tell your own story in words and pictures. You'll - learn to introduce yourself in Maori - solve puzzles and crack codes - play games - invent a superhero - draw your future home - make maps - curate your heroes in a wall of fame - design a flag - create a menu and much more! Packed with quizzes, mazes, colouring pages and activities designed to stimulate bright minds, this is the ideal activity book for creative children aged 5-12. ISBN: 9780143775256 Publication date: 29/09/2020 Price: $25.00 Author: Bishop, Gavin Format: Paperback                                                                                                                                                                                                                                                                                                                                                                                                                                                                                                                                                                                                                                                                                                                                                                                                                                                                                                                                                                                                                                                                                                                                                                                                                                                                                                                                                                                                                               │\n",
      "│ 6   │ The first book of area mazes for kids: Race the clock to solve 70 fun puzzles with grade-school arithmetic - and genius logic! Welcome, brave math wizard, to the world of area mazes. These clever arrangements of squares and rectangles are more than what meets the eye. Can you find your way from the given values to the missing one - using only whole numbers and your powers to add, subtract, multiply, and divide? Absolutely no fractions or equations are required (or allowed)! Too easy? Race the clock! Puzzle master Naoki Inaba has included 'good,' 'great,' and 'amazing' time targets for every puzzle. Just be warned... the puzzles get harder and harder as you go! ISBN: 9781615196180 Publication date: 01/10/2019 Price: $21.99 Author: Inaba, Naoki Format: Paperback                                                                                                                                                                                                                                                                                                                                                                                                                                                                                                                                                                                                                                                                                                                                                                                                                                                                                                                                                                                                                                                                                                                                                                                                                                                                                                                                                                                                                                                                          │\n",
      "│ 7   │ This book inspires kids to expand their play in the most popular LEGO world, space, which includes the bestselling Star Wars sets and toys.  With this first book based on intergalactic space, Sarah Dees presents a new series of projects that focuses on individual popular themes. Featuring Star Wars and other space-themed creations, kids will have a blast building all-new, one-of-a-kind spaceships, space stations, a jet-pack, rovers, space-themed robots and aliens with personalities, and so much more. For the science-lovers, the book will also have projects based on NASA and real space exploration. This is the perfect gift year round for any LEGO lover. The new series includes the same features that made Sarah's first three LEGO books hits-using common bricks most families already have, step-by-step photos, and a range of skill levels to suit all ages. ISBN: 9781624149108 Publication date: 26/11/2019 Price: $34.99 Author: Dees, Sarah Format: Paperback                                                                                                                                                                                                                                                                                                                                                                                                                                                                                                                                                                                                                                                                                                                                                                                                                                                                                                                                                                                                                                                                                                                                                                                                                                                                        │\n",
      "│ 8   │ Children will love learning about animals with this colourful and interactive first book of magnets. As well as placing favourite animals in the appropriate scenes, children can expand their early-learning vocabulary with a variety of first words. The book includes eight individual magnets and introduces kids to the core concepts of colours, numbers and opposites in a fun and accessible way, with bright artwork and lots to spot. ISBN: 9781848698475 Publication date: 08/02/2018 Price: $22.99 Author: My First Book of Magnets Format: Board Book                                                                                                                                                                                                                                                                                                                                                                                                                                                                                                                                                                                                                                                                                                                                                                                                                                                                                                                                                                                                                                                                                                                                                                                                                                                                                                                                                                                                                                                                                                                                                                                                                                                                                                         │\n",
      "│ 9   │ From spotting the snowman in the crowd of penguins, to finding the flamingo that's in a fluster, young children will love poring over the detail of Animal Scramble's humorous and engaging animal scenes. Each page presents a busy crowd of creatures, from beetles to zebras, with lots of playful spotting opportunities. Thought-provoking questions prompt readers to find objects, count to 10 and consider their own opinions on the animals in front of them. And with extra questions at the very end, this is a spotting book to be revisited and enjoyed time and time again. ISBN: 9781787414914 Publication date: 01/03/2020 Price: $19.99 Author: Volpin, Lucy Format: Paperback                                                                                                                                                                                                                                                                                                                                                                                                                                                                                                                                                                                                                                                                                                                                                                                                                                                                                                                                                                                                                                                                                                                                                                                                                                                                                                                                                                                                                                                                                                                                                                             │\n",
      "│ 10  │ From cats and dogs to flamingos and frogs, this book is full of children's favourite animals to colour. The bold outlines provide the perfect way for young children to develop their pen control and colouring skills, while simple words on each page for parents or older children to read encourage a love of language from an early age. Illustrations: Full colour throughout ISBN: 9781474969215 Publication date: 05/03/2020 Price: $10.99 Author: Little First Colouring Format: Paperback                                                                                                                                                                                                                                                                                                                                                                                                                                                                                                                                                                                                                                                                                                                                                                                                                                                                                                                                                                                                                                                                                                                                                                                                                                                                                                                                                                                                                                                                                                                                                                                                                                                                                                                                                                         │\n",
      "│ 11  │ Packed with 26 fun and colorful exercises geared toward 3- to 6-year-olds, this book offers parents and teachers an outstanding source of creative art activities to inspire and enrich this wide-eyed and open-hearted age group. Activities are organized by medium and designed to encourage self-expression. Each Lab also features the work of a prominent artist for inspiration. Gorgeous photography shows different results from different people using the same lesson, exemplifying the way the lesson brings out each artist's personal style. Have fun: drawing with food coloring-tinted ice cubes. painting using a spray bottle and tempera paints. printmaking using balloons, lace, and potatoes to place ink. sculpting with tinfoil, cups, and papier-mache. creating mixed media art with magazines, oil pastels, and wallpaper samples. Targeting one of the most critical developmental periods for children, Art for Little Kids (Little Learning Labs) is the perfect book for both parents and teachers who are seeking enriching and unique experiences to offer this age group. This inspirational book stands out as a unique reference for creating fine art with children through finding the student's own voice, marks, and style and with playful lessons that result in significant skill building. The popular Little Learning Labs series (based on the larger format Lab for Kids series) features a growing list of books that share hands-on activities and projects on a wide host of topics, including art, astronomy, geology, math, and even bugs-all authored by established experts in their fields. Each lab contains a complete materials list, clear step-by-step photographs of the process, as well as finished samples. The activities are open-ended, designed to be explored over and over, often with different results. Geared toward being taught or guided by adults, they are enriching for a range of ages and skill levels. Gain firsthand knowledge on your favorite topic with Little Learning Labs. Explore a fun and inspiring collection of wonderful art activities for the preschool set! ISBN: 9781631598135 Publication date: 03/09/2019 Price: $19.99 Author: Little Learning Labs Format: Paperback │\n",
      "│ 12  │ Unleash thousands of stories from the depths of your imagination! Pick a subject card and a technique card and use them to create your own madcap tales. These 80 cards will provide hours of storytelling and creative writing entertainment. All you need is a pencil and paper, and a pirate ship, and a warrior princess, and an elephant... ISBN: 9781786274878 Publication date: 09/09/2019 Price: $29.99 Author: Nicky, Hoberman Format: Boxed Set                                                                                                                                                                                                                                                                                                                                                                                                                                                                                                                                                                                                                                                                                                                                                                                                                                                                                                                                                                                                                                                                                                                                                                                                                                                                                                                                                                                                                                                                                                                                                                                                                                                                                                                                                                                                                   │\n",
      "\n",
      "│ Row │ bookavl            │\n",
      "│     │ \u001b[90mString\u001b[39m             │\n",
      "├─────┼────────────────────┤\n",
      "│ 1   │ Availability :  1  │\n",
      "│ 2   │ Availability :  0  │\n",
      "│ 3   │ Availability :  0  │\n",
      "│ 4   │ Availability :  0  │\n",
      "│ 5   │ Availability :  10 │\n",
      "│ 6   │ Availability :  1  │\n",
      "│ 7   │ Availability :  1  │\n",
      "│ 8   │ Availability :  2  │\n",
      "│ 9   │ Availability :  3  │\n",
      "│ 10  │ Availability :  3  │\n",
      "│ 11  │ Availability :  1  │\n",
      "│ 12  │ Availability :  1  │"
     ]
    }
   ],
   "source": [
    "showall(finaldf)"
   ]
  }
 ],
 "metadata": {
  "kernelspec": {
   "display_name": "Julia 1.4.2",
   "language": "julia",
   "name": "julia-1.4"
  },
  "language_info": {
   "file_extension": ".jl",
   "mimetype": "application/julia",
   "name": "julia",
   "version": "1.4.2"
  }
 },
 "nbformat": 4,
 "nbformat_minor": 4
}
